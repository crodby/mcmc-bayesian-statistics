{
 "cells": [
  {
   "cell_type": "code",
   "execution_count": 213,
   "metadata": {},
   "outputs": [],
   "source": [
    "import numpy as np\n",
    "import math\n",
    "import matplotlib.pyplot as plt\n",
    "import scipy.stats as st\n",
    "%matplotlib inline"
   ]
  },
  {
   "cell_type": "code",
   "execution_count": 214,
   "metadata": {
    "collapsed": true
   },
   "outputs": [],
   "source": [
    "def update_mu(n, ybar, sig2, mu_0, sig2_0):\n",
    "    sig2_1 = 1.0 / (n / sig2 + 1.0 / sig2_0)\n",
    "    mu_1 = sig2_1 * (n * ybar / sig2 + mu_0 / sig2_0)    \n",
    "    return np.random.normal(mu_1, math.sqrt(sig2_1))"
   ]
  },
  {
   "cell_type": "code",
   "execution_count": 215,
   "metadata": {
    "collapsed": true
   },
   "outputs": [],
   "source": [
    "def update_sig2(n, y, mu, nu_0, beta_0):\n",
    "    nu_1 = nu_0 + n / 2.0\n",
    "    sumsq = np.sum(np.subtract(y, mu)**2) # vectorized\n",
    "    beta_1 = beta_0 + sumsq / 2.0\n",
    "    out_gamma = np.random.gamma(nu_1, 1.0/beta_1) # rate for gamma is shape for inv-gamma\n",
    "    return 1.0 / out_gamma # reciprocal of a gamma random variable is distributed inv-gamma"
   ]
  },
  {
   "cell_type": "code",
   "execution_count": 216,
   "metadata": {},
   "outputs": [],
   "source": [
    "def gibbs(y, n_iter, init, prior):\n",
    "    ybar = np.mean(y)\n",
    "    n = len(y)\n",
    "  \n",
    "    ## initialize\n",
    "    mu_out = np.zeros(n_iter)\n",
    "    sig2_out = np.zeros(n_iter)\n",
    "  \n",
    "    mu_now = init.mu\n",
    "\n",
    "    ## Gibbs sampler\n",
    "    for i in range(n_iter):\n",
    "        sig2_now = update_sig2(n=n, y=y, mu=mu_now, nu_0=prior.nu_0, beta_0=prior.beta_0)\n",
    "        mu_now = update_mu(n=n, ybar=ybar, sig2=sig2_now, mu_0=prior.mu_0, sig2_0=prior.sig2_0)\n",
    "        \n",
    "        sig2_out[i] = sig2_now\n",
    "        mu_out[i] = mu_now\n",
    "        \n",
    "    class Result:\n",
    "        pass\n",
    "    \n",
    "    result = Result()\n",
    "    result.mu = mu_out\n",
    "    result.sig2 = sig2_out  \n",
    "    return result"
   ]
  },
  {
   "cell_type": "code",
   "execution_count": 217,
   "metadata": {},
   "outputs": [],
   "source": [
    "y = np.array([1.2, 1.4, -0.5, 0.3, 0.9, 2.3, 1.0, 0.1, 1.3, 1.9])\n",
    "ybar = np.mean(y)\n",
    "n = len(y)\n",
    "\n",
    "## prior\n",
    "class Prior:\n",
    "    pass\n",
    "\n",
    "prior = Prior()      \n",
    "prior.mu_0 = 0.0\n",
    "#prior.mu_0 = 1.0\n",
    "prior.sig2_0 = 1.0\n",
    "prior.n_0 = 2.0 # prior effective sample size for sig2\n",
    "prior.s2_0 = 1.0 # prior point estimate for sig2\n",
    "prior.nu_0 = prior.n_0 / 2.0 # prior parameter for inverse-gamma\n",
    "prior.beta_0 = prior.n_0 * prior.s2_0 / 2.0 # prior parameter for inverse-gamma"
   ]
  },
  {
   "cell_type": "code",
   "execution_count": 218,
   "metadata": {},
   "outputs": [
    {
     "data": {
      "image/png": "[encoded data removed]",
      "text/plain": [
       "<matplotlib.figure.Figure at 0x7f736faca860>"
      ]
     },
     "metadata": {},
     "output_type": "display_data"
    }
   ],
   "source": [
    "bins = np.linspace(-1, 3, 9)\n",
    "bins[4]+=1e-5 # a liitle hack for matchng original plotting\n",
    "hist = plt.hist(y, normed=True, bins=bins)\n",
    "x = np.linspace(-1, 3, 50)\n",
    "curv = plt.plot(x, st.norm.pdf(x, prior.mu_0, math.sqrt(prior.sig2_0)))\n",
    "points = plt.plot(y, np.zeros(len(y)), 'ro')\n",
    "data_mean = plt.plot(ybar, 0.1, 'y^')"
   ]
  },
  {
   "cell_type": "code",
   "execution_count": 219,
   "metadata": {},
   "outputs": [],
   "source": [
    "np.random.seed(1)\n",
    "\n",
    "class init:\n",
    "    pass\n",
    "\n",
    "init.mu = 0.0\n",
    "\n",
    "post = gibbs(y=y, n_iter=5000, init=init, prior=prior)"
   ]
  },
  {
   "cell_type": "code",
   "execution_count": 220,
   "metadata": {},
   "outputs": [
    {
     "data": {
      "image/png": "[encoded data removed]",
      "text/plain": [
       "<matplotlib.figure.Figure at 0x7f7370586b70>"
      ]
     },
     "metadata": {},
     "output_type": "display_data"
    }
   ],
   "source": [
    "plt.subplot(221)\n",
    "mu_trace = plt.plot(post.mu)\n",
    "plt.subplot(222)\n",
    "mu_density = plt.hist(post.mu, bins = 40, normed=True)\n",
    "plt.subplot(223)\n",
    "mu_trace = plt.plot(post.sig2)\n",
    "plt.subplot(224)\n",
    "mu_density = plt.hist(post.sig2, bins = 40, normed=True)"
   ]
  },
  {
   "cell_type": "code",
   "execution_count": 221,
   "metadata": {},
   "outputs": [
    {
     "name": "stdout",
     "output_type": "stream",
     "text": [
      "mu mean = 0.905152888042\n",
      "sig2 mean = 0.925497779379\n"
     ]
    }
   ],
   "source": [
    "print('mu mean =', np.mean(post.mu))\n",
    "print('sig2 mean =', np.mean(post.sig2))"
   ]
  }
 ],
 "metadata": {
  "kernelspec": {
   "display_name": "Python 3",
   "language": "python",
   "name": "python3"
  },
  "language_info": {
   "codemirror_mode": {
    "name": "ipython",
    "version": 3
   },
   "file_extension": ".py",
   "mimetype": "text/x-python",
   "name": "python",
   "nbconvert_exporter": "python",
   "pygments_lexer": "ipython3",
   "version": "3.6.1"
  }
 },
 "nbformat": 4,
 "nbformat_minor": 2
}
